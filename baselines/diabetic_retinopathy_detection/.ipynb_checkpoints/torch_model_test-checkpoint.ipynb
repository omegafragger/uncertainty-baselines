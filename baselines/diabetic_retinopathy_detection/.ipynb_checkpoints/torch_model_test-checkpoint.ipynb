{
 "cells": [
  {
   "cell_type": "code",
   "execution_count": 1,
   "id": "8cdd5a12",
   "metadata": {},
   "outputs": [],
   "source": [
    "import torch\n",
    "\n",
    "import uncertainty_baselines as ub"
   ]
  },
  {
   "cell_type": "code",
   "execution_count": 2,
   "id": "c3626e06",
   "metadata": {},
   "outputs": [
    {
     "name": "stderr",
     "output_type": "stream",
     "text": [
      "2022-10-04 10:12:03.909201: I tensorflow/core/platform/cpu_feature_guard.cc:193] This TensorFlow binary is optimized with oneAPI Deep Neural Network Library (oneDNN) to use the following CPU instructions in performance-critical operations:  AVX2 FMA\n",
      "To enable them in other operations, rebuild TensorFlow with the appropriate compiler flags.\n",
      "2022-10-04 10:12:04.035023: W tensorflow/stream_executor/platform/default/dso_loader.cc:64] Could not load dynamic library 'libcudart.so.11.0'; dlerror: libcudart.so.11.0: cannot open shared object file: No such file or directory\n",
      "2022-10-04 10:12:04.035041: I tensorflow/stream_executor/cuda/cudart_stub.cc:29] Ignore above cudart dlerror if you do not have a GPU set up on your machine.\n",
      "2022-10-04 10:12:04.064080: E tensorflow/stream_executor/cuda/cuda_blas.cc:2981] Unable to register cuBLAS factory: Attempting to register factory for plugin cuBLAS when one has already been registered\n",
      "2022-10-04 10:12:04.852065: W tensorflow/stream_executor/platform/default/dso_loader.cc:64] Could not load dynamic library 'libnvinfer.so.7'; dlerror: libnvinfer.so.7: cannot open shared object file: No such file or directory\n",
      "2022-10-04 10:12:04.852142: W tensorflow/stream_executor/platform/default/dso_loader.cc:64] Could not load dynamic library 'libnvinfer_plugin.so.7'; dlerror: libnvinfer_plugin.so.7: cannot open shared object file: No such file or directory\n",
      "2022-10-04 10:12:04.852151: W tensorflow/compiler/tf2tensorrt/utils/py_utils.cc:38] TF-TRT Warning: Cannot dlopen some TensorRT libraries. If you would like to use Nvidia GPU with TensorRT, please make sure the missing libraries mentioned above are installed properly.\n",
      "WARNING:absl:Skipped importing the SMCalflow dataset due to ImportError. Try installing uncertainty baselines with the `datasets` extras.\n",
      "Traceback (most recent call last):\n",
      "  File \"/home/jishnu/Projects/uncertainty_baselines/uncertainty_baselines/datasets/datasets.py\", line 60, in <module>\n",
      "    from uncertainty_baselines.datasets.smcalflow import MultiWoZDataset  # pylint: disable=g-import-not-at-top\n",
      "  File \"/home/jishnu/Projects/uncertainty_baselines/uncertainty_baselines/datasets/smcalflow.py\", line 40, in <module>\n",
      "    import seqio\n",
      "ModuleNotFoundError: No module named 'seqio'\n",
      "WARNING:absl:Skipped importing the Speech Commands dataset due to ImportError. Try installing uncertainty baselines with the `datasets` extras.\n",
      "Traceback (most recent call last):\n",
      "  File \"/home/jishnu/Projects/uncertainty_baselines/uncertainty_baselines/datasets/datasets.py\", line 72, in <module>\n",
      "    from uncertainty_baselines.datasets.speech_commands import SpeechCommandsDataset  # pylint: disable=g-import-not-at-top\n",
      "  File \"/home/jishnu/Projects/uncertainty_baselines/uncertainty_baselines/datasets/speech_commands.py\", line 29, in <module>\n",
      "    import librosa\n",
      "ModuleNotFoundError: No module named 'librosa'\n",
      "WARNING:absl:Skipped importing the SMCalflow dataset due to ImportError. Try installing uncertainty baselines with the `datasets` extras.\n",
      "Traceback (most recent call last):\n",
      "  File \"/home/jishnu/Projects/uncertainty_baselines/uncertainty_baselines/datasets/__init__.py\", line 71, in <module>\n",
      "    from uncertainty_baselines.datasets.smcalflow import MultiWoZDataset  # pylint: disable=g-import-not-at-top\n",
      "  File \"/home/jishnu/Projects/uncertainty_baselines/uncertainty_baselines/datasets/smcalflow.py\", line 40, in <module>\n",
      "    import seqio\n",
      "ModuleNotFoundError: No module named 'seqio'\n",
      "WARNING:absl:Skipped importing the Speech Commands dataset due to ImportError. Try installing uncertainty baselines with the `datasets` extras.\n",
      "Traceback (most recent call last):\n",
      "  File \"/home/jishnu/Projects/uncertainty_baselines/uncertainty_baselines/datasets/__init__.py\", line 81, in <module>\n",
      "    from uncertainty_baselines.datasets.speech_commands import SpeechCommandsDataset  # pylint: disable=g-import-not-at-top\n",
      "  File \"/home/jishnu/Projects/uncertainty_baselines/uncertainty_baselines/datasets/speech_commands.py\", line 29, in <module>\n",
      "    import librosa\n",
      "ModuleNotFoundError: No module named 'librosa'\n",
      "WARNING:absl:Skipped BERT models due to ImportError.\n",
      "Traceback (most recent call last):\n",
      "  File \"/home/jishnu/Projects/uncertainty_baselines/uncertainty_baselines/models/__init__.py\", line 107, in <module>\n",
      "    from uncertainty_baselines.models import bert\n",
      "  File \"/home/jishnu/Projects/uncertainty_baselines/uncertainty_baselines/models/bert.py\", line 30, in <module>\n",
      "    from official.nlp.bert import bert_models\n",
      "ModuleNotFoundError: No module named 'official.nlp.bert'\n"
     ]
    }
   ],
   "source": [
    "from uncertainty_baselines.models.torch_models.resnet import resnet50\n",
    "from uncertainty_baselines.models.torch_models.resnet_sn import resnet50 as resnet50_sn\n",
    "from uncertainty_baselines.models.torch_models.vgg import vgg16"
   ]
  },
  {
   "cell_type": "code",
   "execution_count": 3,
   "id": "0bf57060",
   "metadata": {},
   "outputs": [],
   "source": [
    "device = 'cuda' if torch.cuda.is_available() else 'cpu'\n",
    "resnet50_model = resnet50(num_classes=1).to(device)\n",
    "resnet50_sn_model = resnet50_sn(num_classes=1).to(device)\n",
    "vgg16_model = vgg16(num_classes=1).to(device)"
   ]
  },
  {
   "cell_type": "code",
   "execution_count": 4,
   "id": "004c1647",
   "metadata": {},
   "outputs": [
    {
     "name": "stdout",
     "output_type": "stream",
     "text": [
      "torch.Size([16, 1])\n",
      "torch.Size([16, 1])\n",
      "torch.Size([16, 1])\n"
     ]
    }
   ],
   "source": [
    "x = torch.ones(16, 3, 512, 512).to(device)\n",
    "\n",
    "with torch.no_grad():\n",
    "    l_rn50 = resnet50_model(x)\n",
    "    l_rn50_sn = resnet50_sn_model(x)\n",
    "    l_vgg16 = vgg16_model(x)\n",
    "    print (l_rn50.shape)\n",
    "    print (l_rn50_sn.shape)\n",
    "    print (l_vgg16.shape)"
   ]
  },
  {
   "cell_type": "code",
   "execution_count": 6,
   "id": "fd5ecd99",
   "metadata": {},
   "outputs": [
    {
     "name": "stdout",
     "output_type": "stream",
     "text": [
      "torch.Size([16, 1])\n",
      "tensor([[0.1480],\n",
      "        [0.1480],\n",
      "        [0.1480],\n",
      "        [0.1480],\n",
      "        [0.1480],\n",
      "        [0.1480],\n",
      "        [0.1480],\n",
      "        [0.1480],\n",
      "        [0.1480],\n",
      "        [0.1480],\n",
      "        [0.1480],\n",
      "        [0.1480],\n",
      "        [0.1480],\n",
      "        [0.1480],\n",
      "        [0.1480],\n",
      "        [0.1480]], device='cuda:0')\n"
     ]
    }
   ],
   "source": [
    "print (l_vgg16.shape)\n",
    "print (l_vgg16)"
   ]
  },
  {
   "cell_type": "code",
   "execution_count": null,
   "id": "546309f3-6492-4084-8b33-4000946d94ad",
   "metadata": {},
   "outputs": [],
   "source": []
  }
 ],
 "metadata": {
  "kernelspec": {
   "display_name": "Python 3 (ipykernel)",
   "language": "python",
   "name": "python3"
  },
  "language_info": {
   "codemirror_mode": {
    "name": "ipython",
    "version": 3
   },
   "file_extension": ".py",
   "mimetype": "text/x-python",
   "name": "python",
   "nbconvert_exporter": "python",
   "pygments_lexer": "ipython3",
   "version": "3.8.13"
  }
 },
 "nbformat": 4,
 "nbformat_minor": 5
}
