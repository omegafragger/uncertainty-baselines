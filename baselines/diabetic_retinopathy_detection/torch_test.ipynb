{
 "cells": [
  {
   "cell_type": "code",
   "execution_count": 1,
   "id": "60e3de5f",
   "metadata": {},
   "outputs": [
    {
     "name": "stderr",
     "output_type": "stream",
     "text": [
      "2022-10-02 12:32:05.109577: I tensorflow/core/platform/cpu_feature_guard.cc:193] This TensorFlow binary is optimized with oneAPI Deep Neural Network Library (oneDNN) to use the following CPU instructions in performance-critical operations:  AVX2 FMA\n",
      "To enable them in other operations, rebuild TensorFlow with the appropriate compiler flags.\n",
      "2022-10-02 12:32:05.492932: W tensorflow/stream_executor/platform/default/dso_loader.cc:64] Could not load dynamic library 'libcudart.so.11.0'; dlerror: libcudart.so.11.0: cannot open shared object file: No such file or directory\n",
      "2022-10-02 12:32:05.492965: I tensorflow/stream_executor/cuda/cudart_stub.cc:29] Ignore above cudart dlerror if you do not have a GPU set up on your machine.\n",
      "2022-10-02 12:32:05.572791: E tensorflow/stream_executor/cuda/cuda_blas.cc:2981] Unable to register cuBLAS factory: Attempting to register factory for plugin cuBLAS when one has already been registered\n",
      "2022-10-02 12:32:06.756536: W tensorflow/stream_executor/platform/default/dso_loader.cc:64] Could not load dynamic library 'libnvinfer.so.7'; dlerror: libnvinfer.so.7: cannot open shared object file: No such file or directory\n",
      "2022-10-02 12:32:06.756631: W tensorflow/stream_executor/platform/default/dso_loader.cc:64] Could not load dynamic library 'libnvinfer_plugin.so.7'; dlerror: libnvinfer_plugin.so.7: cannot open shared object file: No such file or directory\n",
      "2022-10-02 12:32:06.756641: W tensorflow/compiler/tf2tensorrt/utils/py_utils.cc:38] TF-TRT Warning: Cannot dlopen some TensorRT libraries. If you would like to use Nvidia GPU with TensorRT, please make sure the missing libraries mentioned above are installed properly.\n",
      "WARNING:absl:Skipped importing the SMCalflow dataset due to ImportError. Try installing uncertainty baselines with the `datasets` extras.\n",
      "Traceback (most recent call last):\n",
      "  File \"/home/jishnu/Projects/db_retino/uncertainty_baselines/datasets/datasets.py\", line 60, in <module>\n",
      "    from uncertainty_baselines.datasets.smcalflow import MultiWoZDataset  # pylint: disable=g-import-not-at-top\n",
      "  File \"/home/jishnu/Projects/db_retino/uncertainty_baselines/datasets/smcalflow.py\", line 40, in <module>\n",
      "    import seqio\n",
      "ModuleNotFoundError: No module named 'seqio'\n",
      "WARNING:absl:Skipped importing the Speech Commands dataset due to ImportError. Try installing uncertainty baselines with the `datasets` extras.\n",
      "Traceback (most recent call last):\n",
      "  File \"/home/jishnu/Projects/db_retino/uncertainty_baselines/datasets/datasets.py\", line 72, in <module>\n",
      "    from uncertainty_baselines.datasets.speech_commands import SpeechCommandsDataset  # pylint: disable=g-import-not-at-top\n",
      "  File \"/home/jishnu/Projects/db_retino/uncertainty_baselines/datasets/speech_commands.py\", line 29, in <module>\n",
      "    import librosa\n",
      "ModuleNotFoundError: No module named 'librosa'\n",
      "WARNING:absl:Skipped importing the SMCalflow dataset due to ImportError. Try installing uncertainty baselines with the `datasets` extras.\n",
      "Traceback (most recent call last):\n",
      "  File \"/home/jishnu/Projects/db_retino/uncertainty_baselines/datasets/__init__.py\", line 71, in <module>\n",
      "    from uncertainty_baselines.datasets.smcalflow import MultiWoZDataset  # pylint: disable=g-import-not-at-top\n",
      "  File \"/home/jishnu/Projects/db_retino/uncertainty_baselines/datasets/smcalflow.py\", line 40, in <module>\n",
      "    import seqio\n",
      "ModuleNotFoundError: No module named 'seqio'\n",
      "WARNING:absl:Skipped importing the Speech Commands dataset due to ImportError. Try installing uncertainty baselines with the `datasets` extras.\n",
      "Traceback (most recent call last):\n",
      "  File \"/home/jishnu/Projects/db_retino/uncertainty_baselines/datasets/__init__.py\", line 81, in <module>\n",
      "    from uncertainty_baselines.datasets.speech_commands import SpeechCommandsDataset  # pylint: disable=g-import-not-at-top\n",
      "  File \"/home/jishnu/Projects/db_retino/uncertainty_baselines/datasets/speech_commands.py\", line 29, in <module>\n",
      "    import librosa\n",
      "ModuleNotFoundError: No module named 'librosa'\n",
      "WARNING:absl:Skipped BERT models due to ImportError.\n",
      "Traceback (most recent call last):\n",
      "  File \"/home/jishnu/Projects/db_retino/uncertainty_baselines/models/__init__.py\", line 107, in <module>\n",
      "    from uncertainty_baselines.models import bert\n",
      "  File \"/home/jishnu/Projects/db_retino/uncertainty_baselines/models/bert.py\", line 30, in <module>\n",
      "    from official.nlp.bert import bert_models\n",
      "ModuleNotFoundError: No module named 'official.nlp.bert'\n",
      "2022-10-02 12:32:11.738221: W tensorflow/stream_executor/platform/default/dso_loader.cc:64] Could not load dynamic library 'libcudart.so.11.0'; dlerror: libcudart.so.11.0: cannot open shared object file: No such file or directory\n",
      "2022-10-02 12:32:11.738369: W tensorflow/stream_executor/platform/default/dso_loader.cc:64] Could not load dynamic library 'libcublas.so.11'; dlerror: libcublas.so.11: cannot open shared object file: No such file or directory\n",
      "2022-10-02 12:32:11.738487: W tensorflow/stream_executor/platform/default/dso_loader.cc:64] Could not load dynamic library 'libcublasLt.so.11'; dlerror: libcublasLt.so.11: cannot open shared object file: No such file or directory\n",
      "2022-10-02 12:32:11.738603: W tensorflow/stream_executor/platform/default/dso_loader.cc:64] Could not load dynamic library 'libcufft.so.10'; dlerror: libcufft.so.10: cannot open shared object file: No such file or directory\n",
      "2022-10-02 12:32:11.738714: W tensorflow/stream_executor/platform/default/dso_loader.cc:64] Could not load dynamic library 'libcurand.so.10'; dlerror: libcurand.so.10: cannot open shared object file: No such file or directory\n",
      "2022-10-02 12:32:11.738827: W tensorflow/stream_executor/platform/default/dso_loader.cc:64] Could not load dynamic library 'libcusolver.so.11'; dlerror: libcusolver.so.11: cannot open shared object file: No such file or directory\n",
      "2022-10-02 12:32:11.738938: W tensorflow/stream_executor/platform/default/dso_loader.cc:64] Could not load dynamic library 'libcusparse.so.11'; dlerror: libcusparse.so.11: cannot open shared object file: No such file or directory\n",
      "2022-10-02 12:32:11.739051: W tensorflow/stream_executor/platform/default/dso_loader.cc:64] Could not load dynamic library 'libcudnn.so.8'; dlerror: libcudnn.so.8: cannot open shared object file: No such file or directory\n",
      "2022-10-02 12:32:11.739070: W tensorflow/core/common_runtime/gpu/gpu_device.cc:1934] Cannot dlopen some GPU libraries. Please make sure the missing libraries mentioned above are installed properly if you would like to use GPU. Follow the guide at https://www.tensorflow.org/install/gpu for how to download and setup the required libraries for your platform.\n",
      "Skipping registering GPU devices...\n"
     ]
    }
   ],
   "source": [
    "import os\n",
    "import time\n",
    "\n",
    "from absl import app\n",
    "from absl import flags\n",
    "from absl import logging\n",
    "import numpy as np\n",
    "import tensorflow as tf\n",
    "import tensorflow_datasets as tfds\n",
    "import torch\n",
    "\n",
    "import torch_utils  # local file import\n",
    "import uncertainty_baselines as ub\n",
    "import utils  # local file import\n",
    "from tensorboard.plugins.hparams import api as hp\n",
    "\n",
    "# Hide any GPUs form TensorFlow. Otherwise TF might reserve memory and make\n",
    "# PyTorch crash with CUDA OoM error.\n",
    "tf.config.experimental.set_visible_devices([], 'GPU')\n",
    "\n",
    "DEFAULT_NUM_EPOCHS = 90"
   ]
  },
  {
   "cell_type": "code",
   "execution_count": 2,
   "id": "0d55f6d2",
   "metadata": {},
   "outputs": [],
   "source": [
    "# Data load / output flags.\n",
    "\n",
    "class FLAGS:\n",
    "    output_dir = '/media/jishnu/Data/ub_retinopathy_outputs'\n",
    "    data_dir = '/media/jishnu/Data/ub_retinopathy'\n",
    "    use_validation = True\n",
    "    base_learning_rate = 4e-4\n",
    "    one_minus_momentum = 0.1\n",
    "    lr_warmup_epochs = 20\n",
    "    seed = 42\n",
    "    l2 = 5e-5\n",
    "    train_epochs = DEFAULT_NUM_EPOCHS\n",
    "    train_batch_size = 16\n",
    "    eval_batch_size = 32\n",
    "    checkpoint_interval = 25\n",
    "    dropout_rate = 0.1\n",
    "    num_dropout_samples_eval = 10\n",
    "    num_bins = 15\n",
    "    use_gpu = True"
   ]
  },
  {
   "cell_type": "code",
   "execution_count": 3,
   "id": "5dbe05fc",
   "metadata": {},
   "outputs": [
    {
     "name": "stdout",
     "output_type": "stream",
     "text": [
      "Running model with CUDA.\n"
     ]
    }
   ],
   "source": [
    "tf.io.gfile.makedirs(FLAGS.output_dir)\n",
    "logging.info('Saving checkpoints at %s', FLAGS.output_dir)\n",
    "\n",
    "# Set seeds\n",
    "tf.random.set_seed(FLAGS.seed)\n",
    "np.random.seed(FLAGS.seed)\n",
    "torch.manual_seed(FLAGS.seed)\n",
    "\n",
    "# Resolve CUDA device(s)\n",
    "if FLAGS.use_gpu and torch.cuda.is_available():\n",
    "    print('Running model with CUDA.')\n",
    "    device = 'cuda:0'\n",
    "else:\n",
    "    print('Running model on CPU.')\n",
    "    device = 'cpu'\n",
    "\n",
    "train_batch_size = FLAGS.train_batch_size\n",
    "eval_batch_size = FLAGS.eval_batch_size // FLAGS.num_dropout_samples_eval\n"
   ]
  },
  {
   "cell_type": "code",
   "execution_count": 4,
   "id": "8eba4c51",
   "metadata": {},
   "outputs": [
    {
     "name": "stderr",
     "output_type": "stream",
     "text": [
      "2022-10-02 12:32:22.541906: W tensorflow/core/platform/cloud/google_auth_provider.cc:184] All attempts to get a Google authentication bearer token failed, returning an empty token. Retrieving token from files failed with \"NOT_FOUND: Could not locate the credentials file.\". Retrieving token from GCE failed with \"FAILED_PRECONDITION: Error executing an HTTP request: libcurl code 6 meaning 'Couldn't resolve host name', error details: Could not resolve host: metadata\".\n",
      "2022-10-02 12:32:23.859763: I tensorflow/core/platform/cpu_feature_guard.cc:193] This TensorFlow binary is optimized with oneAPI Deep Neural Network Library (oneDNN) to use the following CPU instructions in performance-critical operations:  AVX2 FMA\n",
      "To enable them in other operations, rebuild TensorFlow with the appropriate compiler flags.\n"
     ]
    },
    {
     "name": "stdout",
     "output_type": "stream",
     "text": [
      "Building Kaggle DR dataset with decision threshold: moderate.\n"
     ]
    },
    {
     "name": "stderr",
     "output_type": "stream",
     "text": [
      "2022-10-02 12:32:24.151828: I tensorflow/core/grappler/optimizers/data/replicate_on_split.cc:32] Running replicate on split optimization\n",
      "2022-10-02 12:32:24.231985: I tensorflow/core/grappler/optimizers/data/replicate_on_split.cc:32] Running replicate on split optimization\n",
      "WARNING:absl:options.experimental_threading is deprecated. Use options.threading instead.\n",
      "WARNING:absl:options.experimental_threading is deprecated. Use options.threading instead.\n",
      "2022-10-02 12:32:24.495720: I tensorflow/core/grappler/optimizers/data/replicate_on_split.cc:32] Running replicate on split optimization\n",
      "2022-10-02 12:32:24.504562: I tensorflow/core/grappler/optimizers/data/replicate_on_split.cc:32] Running replicate on split optimization\n",
      "WARNING:absl:options.experimental_threading is deprecated. Use options.threading instead.\n",
      "WARNING:absl:options.experimental_threading is deprecated. Use options.threading instead.\n",
      "2022-10-02 12:32:24.573514: I tensorflow/core/grappler/optimizers/data/replicate_on_split.cc:32] Running replicate on split optimization\n",
      "2022-10-02 12:32:24.582766: I tensorflow/core/grappler/optimizers/data/replicate_on_split.cc:32] Running replicate on split optimization\n",
      "WARNING:absl:options.experimental_threading is deprecated. Use options.threading instead.\n",
      "WARNING:absl:options.experimental_threading is deprecated. Use options.threading instead.\n"
     ]
    },
    {
     "name": "stdout",
     "output_type": "stream",
     "text": [
      "Building Kaggle DR dataset with decision threshold: moderate.\n",
      "Building Kaggle DR dataset with decision threshold: moderate.\n"
     ]
    }
   ],
   "source": [
    "train_batch_size = FLAGS.train_batch_size\n",
    "eval_batch_size = FLAGS.eval_batch_size // FLAGS.num_dropout_samples_eval\n",
    "\n",
    "# As per the Kaggle challenge, we have split sizes:\n",
    "# train: 35,126\n",
    "# validation: 10,906\n",
    "# test: 42,670\n",
    "ds_info = tfds.builder('diabetic_retinopathy_detection').info\n",
    "steps_per_epoch = ds_info.splits['train'].num_examples // train_batch_size\n",
    "steps_per_validation_eval = (\n",
    "  ds_info.splits['validation'].num_examples // eval_batch_size)\n",
    "steps_per_test_eval = ds_info.splits['test'].num_examples // eval_batch_size\n",
    "\n",
    "data_dir = FLAGS.data_dir\n",
    "\n",
    "dataset_train_builder = ub.datasets.get('ub_diabetic_retinopathy_detection', split='train', data_dir=data_dir)\n",
    "dataset_train = dataset_train_builder.load(batch_size=train_batch_size)\n",
    "\n",
    "dataset_validation_builder = ub.datasets.get(\n",
    "  'ub_diabetic_retinopathy_detection',\n",
    "  split='validation',\n",
    "  data_dir=data_dir,\n",
    "  is_training=not FLAGS.use_validation)\n",
    "validation_batch_size = (\n",
    "  eval_batch_size if FLAGS.use_validation else train_batch_size)\n",
    "dataset_validation = dataset_validation_builder.load(\n",
    "  batch_size=validation_batch_size)\n",
    "if not FLAGS.use_validation:\n",
    "# Note that this will not create any mixed batches of train and validation\n",
    "# images.\n",
    "    dataset_train = dataset_train.concatenate(dataset_validation)\n",
    "\n",
    "dataset_test_builder = ub.datasets.get(\n",
    "  'ub_diabetic_retinopathy_detection', split='test', data_dir=data_dir)\n",
    "dataset_test = dataset_test_builder.load(batch_size=eval_batch_size)\n"
   ]
  },
  {
   "cell_type": "code",
   "execution_count": 9,
   "id": "c638c46d",
   "metadata": {},
   "outputs": [],
   "source": [
    "train_iterator = iter(dataset_train)\n",
    "val_iterator = iter(dataset_validation)\n",
    "test_iterator = iter(dataset_test)"
   ]
  },
  {
   "cell_type": "code",
   "execution_count": 10,
   "id": "8893c1a8",
   "metadata": {},
   "outputs": [
    {
     "name": "stdout",
     "output_type": "stream",
     "text": [
      "torch.Size([16, 3, 512, 512])\n",
      "torch.Size([16])\n",
      "tensor(0., device='cuda:0')\n",
      "tensor(1., device='cuda:0')\n",
      "tensor([0.0000e+00, 1.0771e-06, 1.8849e-06,  ..., 1.0000e+00, 1.0000e+00,\n",
      "        1.0000e+00], device='cuda:0')\n",
      "tensor([0., 1.], device='cuda:0')\n",
      "torch.Size([3, 3, 512, 512])\n",
      "torch.Size([3])\n",
      "tensor(0., device='cuda:0')\n",
      "tensor(1., device='cuda:0')\n",
      "tensor([0.0000e+00, 5.5651e-06, 3.3390e-05,  ..., 9.9991e-01, 9.9997e-01,\n",
      "        1.0000e+00], device='cuda:0')\n",
      "tensor([0., 1.], device='cuda:0')\n",
      "torch.Size([3, 3, 512, 512])\n",
      "torch.Size([3])\n",
      "tensor(0., device='cuda:0')\n",
      "tensor(1., device='cuda:0')\n",
      "tensor([0.0000e+00, 2.5132e-05, 5.5769e-05,  ..., 9.9995e-01, 9.9997e-01,\n",
      "        1.0000e+00], device='cuda:0')\n",
      "tensor([0.], device='cuda:0')\n"
     ]
    }
   ],
   "source": [
    "# Check dataset stats\n",
    "\n",
    "def get_torch_inputs(inputs, batch_size, image_h, image_w, device):\n",
    "    images = inputs['features']\n",
    "    labels = inputs['labels']\n",
    "    images = torch.from_numpy(images._numpy()).view(batch_size, 3, image_h, image_w).to(device)\n",
    "    labels = torch.from_numpy(labels._numpy()).to(device).float()\n",
    "    return images, labels\n",
    "\n",
    "# Train\n",
    "image_h = 512\n",
    "image_w = 512\n",
    "for step in range(steps_per_epoch):\n",
    "    inputs = next(train_iterator)\n",
    "    images, labels = get_torch_inputs(inputs, train_batch_size, image_h, image_w, device)\n",
    "    print (images.shape)\n",
    "    print (labels.shape)\n",
    "    print (images.min())\n",
    "    print (images.max())\n",
    "    print (images.unique())\n",
    "    print (labels.unique())\n",
    "    break\n",
    "    \n",
    "# Validation\n",
    "for step in range(steps_per_validation_eval):\n",
    "    inputs = next(val_iterator)\n",
    "    images, labels = get_torch_inputs(inputs, eval_batch_size, image_h, image_w, device)\n",
    "    print (images.shape)\n",
    "    print (labels.shape)\n",
    "    print (images.min())\n",
    "    print (images.max())\n",
    "    print (images.unique())\n",
    "    print (labels.unique())\n",
    "    break\n",
    "\n",
    "# Test\n",
    "for step in range(steps_per_test_eval):\n",
    "    inputs = next(test_iterator)\n",
    "    images, labels = get_torch_inputs(inputs, eval_batch_size, image_h, image_w, device)\n",
    "    print (images.shape)\n",
    "    print (labels.shape)\n",
    "    print (images.min())\n",
    "    print (images.max())\n",
    "    print (images.unique())\n",
    "    print (labels.unique())\n",
    "    break\n"
   ]
  },
  {
   "cell_type": "code",
   "execution_count": 13,
   "id": "dd7b739c",
   "metadata": {},
   "outputs": [
    {
     "name": "stderr",
     "output_type": "stream",
     "text": [
      "100%|████████████████████████████████████████████████| 2195/2195 [01:10<00:00, 31.05it/s]\n",
      "100%|███████████████████████████████████████████████| 3635/3635 [00:12<00:00, 279.76it/s]\n",
      "100%|█████████████████████████████████████████████| 14223/14223 [01:13<00:00, 194.67it/s]\n"
     ]
    }
   ],
   "source": [
    "from tqdm import tqdm\n",
    "\n",
    "for step in tqdm(range(steps_per_epoch)):\n",
    "    inputs = next(train_iterator)\n",
    "    images, labels = get_torch_inputs(inputs, train_batch_size, image_h, image_w, device)\n",
    "    # print (images.shape)\n",
    "    # print (labels.shape)\n",
    "    # print (images.min())\n",
    "    # print (images.max())\n",
    "    # print (images.unique())\n",
    "    # print (labels.unique())\n",
    "    pass\n",
    "    \n",
    "# Validation\n",
    "for step in tqdm(range(steps_per_validation_eval)):\n",
    "    inputs = next(val_iterator)\n",
    "    images, labels = get_torch_inputs(inputs, eval_batch_size, image_h, image_w, device)\n",
    "    # print (images.shape)\n",
    "    # print (labels.shape)\n",
    "    # print (images.min())\n",
    "    # print (images.max())\n",
    "    # print (images.unique())\n",
    "    # print (labels.unique())\n",
    "    pass\n",
    "\n",
    "# Test\n",
    "for step in tqdm(range(steps_per_test_eval)):\n",
    "    inputs = next(test_iterator)\n",
    "    images, labels = get_torch_inputs(inputs, eval_batch_size, image_h, image_w, device)\n",
    "    # print (images.shape)\n",
    "    # print (labels.shape)\n",
    "    # print (images.min())\n",
    "    # print (images.max())\n",
    "    # print (images.unique())\n",
    "    # print (labels.unique())\n",
    "    pass"
   ]
  },
  {
   "cell_type": "code",
   "execution_count": null,
   "id": "65869ab4-d46b-493d-a8be-c5df78148d1b",
   "metadata": {},
   "outputs": [],
   "source": []
  }
 ],
 "metadata": {
  "kernelspec": {
   "display_name": "Python 3 (ipykernel)",
   "language": "python",
   "name": "python3"
  },
  "language_info": {
   "codemirror_mode": {
    "name": "ipython",
    "version": 3
   },
   "file_extension": ".py",
   "mimetype": "text/x-python",
   "name": "python",
   "nbconvert_exporter": "python",
   "pygments_lexer": "ipython3",
   "version": "3.8.13"
  }
 },
 "nbformat": 4,
 "nbformat_minor": 5
}
